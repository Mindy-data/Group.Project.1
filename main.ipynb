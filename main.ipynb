{
 "cells": [
  {
   "cell_type": "code",
   "execution_count": 187,
   "metadata": {},
   "outputs": [],
   "source": [
    "import requests\n",
    "import pandas as pd\n",
    "from config import tmdb_key\n",
    "from pprint import pprint as pprint"
   ]
  },
  {
   "cell_type": "code",
   "execution_count": 188,
   "metadata": {},
   "outputs": [],
   "source": [
    "base_params = dict(api_key=tmdb_key)\n",
    "year = 2019\n",
    "page = 1\n",
    "listing_params = dict(primary_release_year=year,region='US', sort_by='revenue.desc', include_adult='false', language='en-US', page='1')\n",
    "listing_params.update(base_params)\n",
    "response = requests.get('https://api.themoviedb.org/3/discover/movie', params=listing_params)\n",
    "imdb_films = response.json()['results']\n"
   ]
  },
  {
   "cell_type": "code",
   "execution_count": 190,
   "metadata": {},
   "outputs": [],
   "source": [
    "rows = []\n",
    "\n",
    "restart = True\n",
    "page_limit = True\n",
    "while restart == True:\n",
    "   while page_limit == True:\n",
    "      for film in imdb_films:\n",
    "         film_revenue = requests.get('https://api.themoviedb.org/3/movie/{}'.format(film['id']), params=listing_params)\n",
    "         film_revenue = film_revenue.json()\n",
    "         row = dict(title=film['title'], revenue=film_revenue['revenue'], Year=listing_params['primary_release_year'],\\\n",
    "                     VoteAVG=film['vote_average'], VoteCT=film['vote_count'], Popularity=film['popularity'])\n",
    "         rows.append(row)\n",
    "      if page == 10: \n",
    "         page_limit = False\n",
    "      else:\n",
    "         page += 1\n",
    "         listing_params.update({'page':page})\n",
    "         response = requests.get('https://api.themoviedb.org/3/discover/movie', params=listing_params)\n",
    "         imdb_films = response.json()['results']\n",
    "   if year == 2023: \n",
    "      restart = False\n",
    "   else:\n",
    "      page_limit = True\n",
    "      page = 1\n",
    "      year += 1\n",
    "      listing_params.update({'primary_release_year':year})\n",
    "      response = requests.get('https://api.themoviedb.org/3/discover/movie', params=listing_params)\n",
    "      imdb_films = response.json()['results']\n",
    "      \n",
    "df = pd.DataFrame(rows, columns=['title', 'revenue', 'Year','VoteAVG', 'VoteCT', 'Popularity'])\n",
    "df = df.set_index('Year')"
   ]
  },
  {
   "cell_type": "code",
   "execution_count": 191,
   "metadata": {},
   "outputs": [
    {
     "data": {
      "text/html": [
       "<div>\n",
       "<style scoped>\n",
       "    .dataframe tbody tr th:only-of-type {\n",
       "        vertical-align: middle;\n",
       "    }\n",
       "\n",
       "    .dataframe tbody tr th {\n",
       "        vertical-align: top;\n",
       "    }\n",
       "\n",
       "    .dataframe thead th {\n",
       "        text-align: right;\n",
       "    }\n",
       "</style>\n",
       "<table border=\"1\" class=\"dataframe\">\n",
       "  <thead>\n",
       "    <tr style=\"text-align: right;\">\n",
       "      <th></th>\n",
       "      <th>title</th>\n",
       "      <th>revenue</th>\n",
       "      <th>VoteAVG</th>\n",
       "      <th>VoteCT</th>\n",
       "      <th>Popularity</th>\n",
       "    </tr>\n",
       "    <tr>\n",
       "      <th>Year</th>\n",
       "      <th></th>\n",
       "      <th></th>\n",
       "      <th></th>\n",
       "      <th></th>\n",
       "      <th></th>\n",
       "    </tr>\n",
       "  </thead>\n",
       "  <tbody>\n",
       "    <tr>\n",
       "      <th>2019</th>\n",
       "      <td>Avengers: Endgame</td>\n",
       "      <td>2800000000</td>\n",
       "      <td>8.3</td>\n",
       "      <td>24038</td>\n",
       "      <td>153.084</td>\n",
       "    </tr>\n",
       "    <tr>\n",
       "      <th>2019</th>\n",
       "      <td>The Lion King</td>\n",
       "      <td>1663075401</td>\n",
       "      <td>7.1</td>\n",
       "      <td>9397</td>\n",
       "      <td>102.995</td>\n",
       "    </tr>\n",
       "    <tr>\n",
       "      <th>2019</th>\n",
       "      <td>Frozen II</td>\n",
       "      <td>1450000000</td>\n",
       "      <td>7.3</td>\n",
       "      <td>9114</td>\n",
       "      <td>105.249</td>\n",
       "    </tr>\n",
       "    <tr>\n",
       "      <th>2019</th>\n",
       "      <td>Spider-Man: Far From Home</td>\n",
       "      <td>1131927996</td>\n",
       "      <td>7.4</td>\n",
       "      <td>14606</td>\n",
       "      <td>77.040</td>\n",
       "    </tr>\n",
       "    <tr>\n",
       "      <th>2019</th>\n",
       "      <td>Captain Marvel</td>\n",
       "      <td>1131416446</td>\n",
       "      <td>6.8</td>\n",
       "      <td>14761</td>\n",
       "      <td>157.627</td>\n",
       "    </tr>\n",
       "    <tr>\n",
       "      <th>...</th>\n",
       "      <td>...</td>\n",
       "      <td>...</td>\n",
       "      <td>...</td>\n",
       "      <td>...</td>\n",
       "      <td>...</td>\n",
       "    </tr>\n",
       "    <tr>\n",
       "      <th>2023</th>\n",
       "      <td>Detective Knight: Independence</td>\n",
       "      <td>36171</td>\n",
       "      <td>5.4</td>\n",
       "      <td>147</td>\n",
       "      <td>34.055</td>\n",
       "    </tr>\n",
       "    <tr>\n",
       "      <th>2023</th>\n",
       "      <td>Bobi Wine: The People's President</td>\n",
       "      <td>30189</td>\n",
       "      <td>8.5</td>\n",
       "      <td>2</td>\n",
       "      <td>3.832</td>\n",
       "    </tr>\n",
       "    <tr>\n",
       "      <th>2023</th>\n",
       "      <td>UnCharitable</td>\n",
       "      <td>27438</td>\n",
       "      <td>0.0</td>\n",
       "      <td>0</td>\n",
       "      <td>0.991</td>\n",
       "    </tr>\n",
       "    <tr>\n",
       "      <th>2023</th>\n",
       "      <td>Interrogated</td>\n",
       "      <td>15000</td>\n",
       "      <td>6.0</td>\n",
       "      <td>2</td>\n",
       "      <td>0.983</td>\n",
       "    </tr>\n",
       "    <tr>\n",
       "      <th>2023</th>\n",
       "      <td>Septichexen</td>\n",
       "      <td>10300</td>\n",
       "      <td>0.0</td>\n",
       "      <td>0</td>\n",
       "      <td>1.064</td>\n",
       "    </tr>\n",
       "  </tbody>\n",
       "</table>\n",
       "<p>1000 rows × 5 columns</p>\n",
       "</div>"
      ],
      "text/plain": [
       "                                  title     revenue  VoteAVG  VoteCT  \\\n",
       "Year                                                                   \n",
       "2019                  Avengers: Endgame  2800000000      8.3   24038   \n",
       "2019                      The Lion King  1663075401      7.1    9397   \n",
       "2019                          Frozen II  1450000000      7.3    9114   \n",
       "2019          Spider-Man: Far From Home  1131927996      7.4   14606   \n",
       "2019                     Captain Marvel  1131416446      6.8   14761   \n",
       "...                                 ...         ...      ...     ...   \n",
       "2023     Detective Knight: Independence       36171      5.4     147   \n",
       "2023  Bobi Wine: The People's President       30189      8.5       2   \n",
       "2023                       UnCharitable       27438      0.0       0   \n",
       "2023                       Interrogated       15000      6.0       2   \n",
       "2023                        Septichexen       10300      0.0       0   \n",
       "\n",
       "      Popularity  \n",
       "Year              \n",
       "2019     153.084  \n",
       "2019     102.995  \n",
       "2019     105.249  \n",
       "2019      77.040  \n",
       "2019     157.627  \n",
       "...          ...  \n",
       "2023      34.055  \n",
       "2023       3.832  \n",
       "2023       0.991  \n",
       "2023       0.983  \n",
       "2023       1.064  \n",
       "\n",
       "[1000 rows x 5 columns]"
      ]
     },
     "execution_count": 191,
     "metadata": {},
     "output_type": "execute_result"
    }
   ],
   "source": [
    "df"
   ]
  },
  {
   "cell_type": "code",
   "execution_count": 192,
   "metadata": {},
   "outputs": [
    {
     "data": {
      "text/plain": [
       "1000"
      ]
     },
     "execution_count": 192,
     "metadata": {},
     "output_type": "execute_result"
    }
   ],
   "source": [
    "len(df)"
   ]
  },
  {
   "cell_type": "code",
   "execution_count": 193,
   "metadata": {},
   "outputs": [
    {
     "data": {
      "text/plain": [
       "{'adult': False,\n",
       " 'backdrop_path': '/fp719uiS6OhPtFgRZ079UAUcS3b.jpg',\n",
       " 'genre_ids': [27, 878, 14],\n",
       " 'id': 1122009,\n",
       " 'original_language': 'no',\n",
       " 'original_title': 'Septichexen',\n",
       " 'overview': \"In the sewers of Bergen, a microbiologist tries to uncover a contamination of the drinking water.  THE SEPTICHEXEN POEM:  Deep below the city's streets,  The witch in darkness waits and eats,  Her magic seeps into the water's flow,  As she seeks an heir to follow.  Beware the witch with magic dread,  Her lair of filth, her cauldron red,  For she seeks a child to train in her way,  And make the water turn foul each day.  So do not stray too far below,  Or the witch will catch you, don't you know?  For in her realm, she rules supreme,  And the darkness there will never beam.\",\n",
       " 'popularity': 1.064,\n",
       " 'poster_path': '/yW7ra6ZL30ubX1ZRwOCGk1fky0E.jpg',\n",
       " 'release_date': '2023-09-16',\n",
       " 'title': 'Septichexen',\n",
       " 'video': False,\n",
       " 'vote_average': 0,\n",
       " 'vote_count': 0}"
      ]
     },
     "execution_count": 193,
     "metadata": {},
     "output_type": "execute_result"
    }
   ],
   "source": [
    "film"
   ]
  },
  {
   "cell_type": "code",
   "execution_count": null,
   "metadata": {},
   "outputs": [],
   "source": []
  }
 ],
 "metadata": {
  "kernelspec": {
   "display_name": "base",
   "language": "python",
   "name": "python3"
  },
  "language_info": {
   "codemirror_mode": {
    "name": "ipython",
    "version": 3
   },
   "file_extension": ".py",
   "mimetype": "text/x-python",
   "name": "python",
   "nbconvert_exporter": "python",
   "pygments_lexer": "ipython3",
   "version": "3.11.5"
  }
 },
 "nbformat": 4,
 "nbformat_minor": 2
}
